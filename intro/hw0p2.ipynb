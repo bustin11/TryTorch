{
 "cells": [
  {
   "cell_type": "markdown",
   "metadata": {
    "id": "KkYi5mlSGuO5"
   },
   "source": [
    "## Homework 0 Part 2: Data Loaders\n",
    "\n",
    "In this assignment, you will be provided with data and an expected result. Your task is to fill out the starter code to obtain the expected result. Do not modify the data (X or Y), and do not modify the instantiation of the dataset or dataloader.\n",
    "\n",
    "All three versions -- easy difficulty, medium difficulty, and hard difficulty -- have the same solution code and the same examples. We recommend starting with the easy difficulty. Once you get the expected results with the easy difficulty, try again with the medium difficulty. If you want to challenge yourself, try again with the hard difficulty.\n",
    "\n",
    "CUDA is not required to complete most of this assignment, but it is required to execute the final command. Please use AWS to access CUDA available resources by following the recitation."
   ]
  },
  {
   "cell_type": "markdown",
   "metadata": {
    "id": "Nwj9Af8fGuO7"
   },
   "source": [
    "<hr style=\"border:2px solid gray\"> </hr>"
   ]
  },
  {
   "cell_type": "code",
   "execution_count": 2,
   "metadata": {
    "id": "uaxuM1H1GuO7"
   },
   "outputs": [],
   "source": [
    "import numpy as np\n",
    "import torch"
   ]
  },
  {
   "cell_type": "markdown",
   "metadata": {
    "id": "dsW4chLJGuO7"
   },
   "source": [
    "<hr style=\"border:2px solid gray\"> </hr>"
   ]
  },
  {
   "cell_type": "markdown",
   "metadata": {
    "id": "V-PNFsCYGuO8"
   },
   "source": [
    "### Exercise 1"
   ]
  },
  {
   "cell_type": "code",
   "execution_count": 3,
   "metadata": {
    "id": "LYf8msPTGuO8"
   },
   "outputs": [],
   "source": [
    "X = np.array([2,  3,  4,  5,  6,  7,  8,  9])"
   ]
  },
  {
   "cell_type": "code",
   "execution_count": 6,
   "metadata": {
    "id": "ZXooavblGuO8"
   },
   "outputs": [],
   "source": [
    "class ExampleDataset1(torch.utils.data.Dataset):\n",
    "    \n",
    "    def __init__(self, X):\n",
    "        \n",
    "        ### Assign data to self (1 line)\n",
    "        self.X = X\n",
    "        \n",
    "        ### Assign length to self (1 line)\n",
    "        self.length = len(X)\n",
    "        \n",
    "    def __len__(self):\n",
    "        \n",
    "        ### Return length (1 line)\n",
    "        return self.length\n",
    "    \n",
    "    def __getitem__(self, i):\n",
    "        \n",
    "        ### Return data at index i (1 line)\n",
    "        return self.X[i]\n",
    "    \n",
    "    def collate_fn(batch):\n",
    "        \n",
    "        ### Convert batch to tensor (1 line)\n",
    "        batch_x = torch.as_tensor(batch)\n",
    "        \n",
    "        ### Return batched data and labels (1 line)\n",
    "        return batch_x"
   ]
  },
  {
   "cell_type": "code",
   "execution_count": 11,
   "metadata": {
    "colab": {
     "base_uri": "https://localhost:8080/"
    },
    "id": "ZiVaoWaHGuO8",
    "outputId": "d0686f8f-f4f6-47a4-c376-812bd8cade5f"
   },
   "outputs": [
    {
     "name": "stdout",
     "output_type": "stream",
     "text": [
      "Batch 0 :\n",
      " tensor([2, 3]) \n",
      "\n",
      "Batch 1 :\n",
      " tensor([4, 5]) \n",
      "\n",
      "Batch 2 :\n",
      " tensor([6, 7]) \n",
      "\n",
      "Batch 3 :\n",
      " tensor([8, 9]) \n",
      "\n"
     ]
    }
   ],
   "source": [
    "dataset1 = ExampleDataset1(X)\n",
    "\n",
    "dataloader1 = torch.utils.data.DataLoader(dataset1,\n",
    "                                          batch_size=2, \n",
    "                                          shuffle=False,\n",
    "                                          collate_fn=ExampleDataset1.collate_fn)\n",
    "\n",
    "for i, batch in enumerate(dataloader1):\n",
    "    print(\"Batch\", i, \":\\n\", batch, \"\\n\")"
   ]
  },
  {
   "cell_type": "markdown",
   "metadata": {
    "id": "ShjlOAq0GuO8"
   },
   "source": [
    "---\n",
    "#### Expected Output:\n",
    "```\n",
    "Batch 0 :\n",
    " tensor([2, 3]) \n",
    "\n",
    "Batch 1 :\n",
    " tensor([4, 5]) \n",
    "\n",
    "Batch 2 :\n",
    " tensor([6, 7]) \n",
    "\n",
    "Batch 3 :\n",
    " tensor([8, 9]) \n",
    "```\n",
    "---"
   ]
  },
  {
   "cell_type": "markdown",
   "metadata": {
    "id": "yc4pUqssGuO8"
   },
   "source": [
    "<hr style=\"border:2px solid gray\"> </hr>"
   ]
  },
  {
   "cell_type": "markdown",
   "metadata": {
    "id": "hxIOSfwRGuO8"
   },
   "source": [
    "### Exercise 2"
   ]
  },
  {
   "cell_type": "code",
   "execution_count": 14,
   "metadata": {
    "id": "_lTl8gEBGuO9"
   },
   "outputs": [],
   "source": [
    "X = np.array([2,  3,  4,  5,  6,  7,  8,  9])\n",
    "Y = np.array([4,  9, 16, 25, 36, 49, 64, 81])"
   ]
  },
  {
   "cell_type": "code",
   "execution_count": 12,
   "metadata": {
    "id": "Q8q6W6UJGuO9"
   },
   "outputs": [],
   "source": [
    "class ExampleDataset2(torch.utils.data.Dataset):\n",
    "    \n",
    "    def __init__(self, X, Y):\n",
    "        \n",
    "        ### Assign data and labels to self (1-2 lines)\n",
    "        self.X = X\n",
    "        self.Y = Y\n",
    "        \n",
    "        ### Assert data and labels have the same length (1 line)\n",
    "        assert(len(X) == len(Y))\n",
    "        \n",
    "        ### Assign length to self (1 line)\n",
    "        self.length = len(X)\n",
    "        \n",
    "    def __len__(self):\n",
    "        \n",
    "        ### Return length (1 line)\n",
    "        return self.length\n",
    "    \n",
    "    def __getitem__(self, i):\n",
    "        \n",
    "        ### Return data and label at index (1 line)\n",
    "        return self.X[i], self.Y[i]\n",
    "    \n",
    "    def collate_fn(batch):\n",
    "        \n",
    "        ### Select all data from batch (1 line)\n",
    "        batch_x = [x for x,y in batch]\n",
    "        \n",
    "        ### Select all labels from batch (1 line)\n",
    "        batch_y = [y for x,y in batch]\n",
    "        \n",
    "        ### Convert batched data and labels to tensors (2 lines)\n",
    "        batch_x = torch.as_tensor(batch_x)\n",
    "        batch_y = torch.as_tensor(batch_y)\n",
    "        \n",
    "        ### Return batched data and labels (1 line)\n",
    "        return batch_x, batch_y"
   ]
  },
  {
   "cell_type": "code",
   "execution_count": 15,
   "metadata": {
    "colab": {
     "base_uri": "https://localhost:8080/"
    },
    "id": "jKdoPZCpGuO9",
    "outputId": "76cdc61a-3699-4948-9e4f-cefc11a61073"
   },
   "outputs": [
    {
     "name": "stdout",
     "output_type": "stream",
     "text": [
      "Batch 0 :\n",
      " (tensor([2, 3]), tensor([4, 9])) \n",
      "\n",
      "Batch 1 :\n",
      " (tensor([4, 5]), tensor([16, 25])) \n",
      "\n",
      "Batch 2 :\n",
      " (tensor([6, 7]), tensor([36, 49])) \n",
      "\n",
      "Batch 3 :\n",
      " (tensor([8, 9]), tensor([64, 81])) \n",
      "\n"
     ]
    }
   ],
   "source": [
    "dataset2 = ExampleDataset2(X, Y)\n",
    "\n",
    "dataloader2 = torch.utils.data.DataLoader(dataset2,\n",
    "                                          batch_size=2, \n",
    "                                          shuffle=False,\n",
    "                                          collate_fn=ExampleDataset2.collate_fn)\n",
    "\n",
    "for i, batch in enumerate(dataloader2):\n",
    "    print(\"Batch\", i, \":\\n\", batch, \"\\n\")"
   ]
  },
  {
   "cell_type": "markdown",
   "metadata": {
    "id": "VW-nD93WGuO9"
   },
   "source": [
    "---\n",
    "#### Expected Output:\n",
    "\n",
    "```\n",
    "Batch 0 :\n",
    " (tensor([2, 3]), tensor([4, 9])) \n",
    "\n",
    "Batch 1 :\n",
    " (tensor([4, 5]), tensor([16, 25])) \n",
    "\n",
    "Batch 2 :\n",
    " (tensor([6, 7]), tensor([36, 49])) \n",
    "\n",
    "Batch 3 :\n",
    " (tensor([8, 9]), tensor([64, 81])) \n",
    "\n",
    "```\n",
    "---"
   ]
  },
  {
   "cell_type": "markdown",
   "metadata": {
    "id": "8o5F6uAbGuO9"
   },
   "source": [
    "<hr style=\"border:2px solid gray\"> </hr>"
   ]
  },
  {
   "cell_type": "markdown",
   "metadata": {
    "id": "3GBEXCfGGuO9"
   },
   "source": [
    "### Example 3"
   ]
  },
  {
   "cell_type": "code",
   "execution_count": 17,
   "metadata": {
    "id": "ES_6EDBtGuO9"
   },
   "outputs": [],
   "source": [
    "X = np.array([ np.array([[ 2,  3,  4],\n",
    "                         [ 4,  6,  8],\n",
    "                         [ 6,  9, 12],\n",
    "                         [ 8, 12, 16]]),\n",
    "               np.array([[10, 15, 20],\n",
    "                         [12, 18, 24]]) ], dtype=object)"
   ]
  },
  {
   "cell_type": "code",
   "execution_count": 16,
   "metadata": {
    "id": "_LACSgUDGuO-"
   },
   "outputs": [],
   "source": [
    "class ExampleDataset3(torch.utils.data.Dataset):\n",
    "    \n",
    "    def __init__(self, X):\n",
    "        \n",
    "        ### Assign data to self (1 line)\n",
    "        self.X = X\n",
    "        \n",
    "        ### Define index mapping (4-6 lines)\n",
    "        index_map_X = []\n",
    "        for i, x in enumerate(X):\n",
    "            for j, xx in enumerate(x):\n",
    "                index_pair_X = (i, j)\n",
    "                index_map_X.append(index_pair_X)\n",
    "        \n",
    "        ### Assign index mapping to self (0-1 line)\n",
    "        self.index_map = index_map_X\n",
    "        \n",
    "        ### Assign length to self (1 line)\n",
    "        self.length = len(self.index_map)\n",
    "        \n",
    "    def __len__(self):\n",
    "        \n",
    "        ### Return length (1 line)\n",
    "        return self.length\n",
    "    \n",
    "    def __getitem__(self, index):\n",
    "        ### Get index pair from index map (1-2 lines)\n",
    "        i, j = self.index_map[index]\n",
    "        \n",
    "        ### Get data at index pair (1 line)\n",
    "        xx = self.X[i][j,:]\n",
    "        \n",
    "        ### Return data (1 line)\n",
    "        return xx\n",
    "    \n",
    "    def collate_fn(batch):\n",
    "        \n",
    "        ### Convert batch to tensor (1 line)\n",
    "        batch_x = torch.as_tensor(batch)\n",
    "        \n",
    "        ### Return batched data (1 line)\n",
    "        return batch_x"
   ]
  },
  {
   "cell_type": "code",
   "execution_count": 18,
   "metadata": {
    "colab": {
     "base_uri": "https://localhost:8080/"
    },
    "id": "waEPk1wnGuO-",
    "outputId": "ce98455a-4544-4710-d71f-5bf26c5d1b13"
   },
   "outputs": [
    {
     "name": "stdout",
     "output_type": "stream",
     "text": [
      "Batch 0 :\n",
      " tensor([[ 2,  3,  4],\n",
      "        [ 4,  6,  8],\n",
      "        [ 6,  9, 12]]) \n",
      "\n",
      "Batch 1 :\n",
      " tensor([[ 8, 12, 16],\n",
      "        [10, 15, 20],\n",
      "        [12, 18, 24]]) \n",
      "\n"
     ]
    }
   ],
   "source": [
    "dataset3 = ExampleDataset3(X)\n",
    "\n",
    "dataloader3 = torch.utils.data.DataLoader(dataset3,\n",
    "                                          batch_size=3, \n",
    "                                          shuffle=False,\n",
    "                                          collate_fn=ExampleDataset3.collate_fn)\n",
    "\n",
    "for i, batch in enumerate(dataloader3):\n",
    "    print(\"Batch\", i, \":\\n\", batch, \"\\n\")"
   ]
  },
  {
   "cell_type": "markdown",
   "metadata": {
    "id": "BpbOLtttGuO-"
   },
   "source": [
    "---\n",
    "#### Expected Output\n",
    "\n",
    "```\n",
    "Batch 0 :\n",
    " tensor([[ 2,  3,  4],\n",
    "        [ 4,  6,  8],\n",
    "        [ 6,  9, 12]]) \n",
    "\n",
    "Batch 1 :\n",
    " tensor([[ 8, 12, 16],\n",
    "        [10, 15, 20],\n",
    "        [12, 18, 24]]) \n",
    "```\n",
    "---"
   ]
  },
  {
   "cell_type": "markdown",
   "metadata": {
    "id": "3MFFUegEGuO_"
   },
   "source": [
    "<hr style=\"border:2px solid gray\"> </hr>"
   ]
  },
  {
   "cell_type": "markdown",
   "metadata": {
    "id": "IuNAl6vNGuO_"
   },
   "source": [
    "### Exercise 4"
   ]
  },
  {
   "cell_type": "code",
   "execution_count": 23,
   "metadata": {
    "id": "xWO9PT-XGuO_"
   },
   "outputs": [],
   "source": [
    "X = np.array([ np.array([[ 2,  3,  4],\n",
    "                         [ 4,  6,  8],\n",
    "                         [ 6,  9, 12],\n",
    "                         [ 8, 12, 16]]),\n",
    "               np.array([[10, 15, 20],\n",
    "                         [12, 18, 24]]) ], dtype=object)\n",
    "\n",
    "Y = np.array([ np.array([1, 2, 3, 4]), \n",
    "               np.array([5, 6])], dtype=object)"
   ]
  },
  {
   "cell_type": "code",
   "execution_count": 24,
   "metadata": {
    "id": "Q0SWdAIHGuO_"
   },
   "outputs": [],
   "source": [
    "class ExampleDataset4(torch.utils.data.Dataset):\n",
    "    \n",
    "    def __init__(self, X, Y):\n",
    "        \n",
    "        ### Assign data and label to self (1-2 lines)\n",
    "        self.X = X\n",
    "        self.Y = Y\n",
    "        \n",
    "        ### Define data index mapping (4-6 lines)\n",
    "        index_map_X = []\n",
    "        \n",
    "        for i, x in enumerate(X):\n",
    "            for j, xx in enumerate(x):\n",
    "                index_pair_X = (i, j)\n",
    "                index_map_X.append(index_pair_X)\n",
    "                \n",
    "        ### Define label index mapping (4-6 lines)\n",
    "        index_map_Y = []\n",
    "        for i, y in enumerate(Y):\n",
    "            for j, yy in enumerate(y):\n",
    "                index_pair_Y = (i, j)\n",
    "                index_map_Y.append(index_pair_Y)\n",
    "            \n",
    "        ### Assert the data index mapping and label index mapping are the same (1 line)\n",
    "        assert(set(index_map_X) == set(index_map_Y))\n",
    "        \n",
    "        ### Assign data index mapping to self (1 line)\n",
    "        self.index_map = index_map_X\n",
    "        \n",
    "        ### Assign length to self (1 line)\n",
    "        self.length = len(self.index_map)\n",
    "        \n",
    "    def __len__(self):\n",
    "\n",
    "        ### Return length (1 line)\n",
    "        return self.length\n",
    "    \n",
    "    def __getitem__(self, index):\n",
    "        \n",
    "        ### Get index pair from index map (1-2 lines)\n",
    "        i, j = self.index_map[index]\n",
    "        \n",
    "        ### Get data at index pair (1 line)\n",
    "        xx = self.X[i][j,:]\n",
    "        \n",
    "        ### Get label at index pair (1 line)\n",
    "        yy = self.Y[i][j]\n",
    "        \n",
    "        ### Return data at index pair and label at index pair (1 line)\n",
    "        return xx, yy\n",
    "    \n",
    "    def collate_fn(batch):\n",
    "        \n",
    "        ### Select all data from batch (1 line)\n",
    "        batch_x = [x for x,y in batch]\n",
    "        \n",
    "        ### Select all labels from batch (1 line)\n",
    "        batch_y = [y for x,y in batch]\n",
    "        \n",
    "        ### Convert batched data and labels to tensors (2 lines)\n",
    "        batch_x = torch.as_tensor(batch_x)\n",
    "        batch_y = torch.as_tensor(batch_y)\n",
    "        \n",
    "        ### Return batched data and labels (1 line)\n",
    "        return batch_x, batch_y"
   ]
  },
  {
   "cell_type": "code",
   "execution_count": 25,
   "metadata": {
    "colab": {
     "base_uri": "https://localhost:8080/"
    },
    "id": "CgmvXScwGuO_",
    "outputId": "57799264-8b02-4add-d91a-a6e44447b919"
   },
   "outputs": [
    {
     "name": "stdout",
     "output_type": "stream",
     "text": [
      "Batch 0 :\n",
      " (tensor([[ 2,  3,  4],\n",
      "        [ 4,  6,  8],\n",
      "        [ 6,  9, 12]]), tensor([1, 2, 3])) \n",
      "\n",
      "Batch 1 :\n",
      " (tensor([[ 8, 12, 16],\n",
      "        [10, 15, 20],\n",
      "        [12, 18, 24]]), tensor([4, 5, 6])) \n",
      "\n"
     ]
    }
   ],
   "source": [
    "dataset4 = ExampleDataset4(X, Y)\n",
    "\n",
    "dataloader4 = torch.utils.data.DataLoader(dataset4,\n",
    "                                          batch_size=3, \n",
    "                                          shuffle=False,\n",
    "                                          collate_fn=ExampleDataset4.collate_fn)\n",
    "\n",
    "\n",
    "for i, batch in enumerate(dataloader4):\n",
    "    print(\"Batch\", i, \":\\n\", batch, \"\\n\")"
   ]
  },
  {
   "cell_type": "markdown",
   "metadata": {
    "id": "QTPlCqvMGuO_"
   },
   "source": [
    "---\n",
    "#### Expected Output:\n",
    "\n",
    "```\n",
    "Batch 0 :\n",
    " (tensor([[ 2,  3,  4],\n",
    "        [ 4,  6,  8],\n",
    "        [ 6,  9, 12]]), tensor([1, 2, 3])) \n",
    "\n",
    "Batch 1 :\n",
    " (tensor([[ 8, 12, 16],\n",
    "        [10, 15, 20],\n",
    "        [12, 18, 24]]), tensor([4, 5, 6]))\n",
    "```\n",
    "---"
   ]
  },
  {
   "cell_type": "markdown",
   "metadata": {
    "id": "TBS5gUomGuPA"
   },
   "source": [
    "<hr style=\"border:2px solid gray\"> </hr>"
   ]
  },
  {
   "cell_type": "markdown",
   "metadata": {
    "id": "mL9c7r1NGuPA"
   },
   "source": [
    "### Exercise 5"
   ]
  },
  {
   "cell_type": "code",
   "execution_count": 26,
   "metadata": {
    "id": "cQ-YaJtrGuPA"
   },
   "outputs": [],
   "source": [
    "X = np.array([ np.array([[ 2,  3,  4],\n",
    "                         [ 4,  6,  8],\n",
    "                         [ 6,  9, 12],\n",
    "                         [ 8, 12, 16]]),\n",
    "               np.array([[10, 15, 20],\n",
    "                         [12, 18, 24]]) ], dtype=object)"
   ]
  },
  {
   "cell_type": "code",
   "execution_count": 28,
   "metadata": {
    "id": "GmzNdt9kGuPA"
   },
   "outputs": [],
   "source": [
    "class ExampleDataset5(torch.utils.data.Dataset):\n",
    "    \n",
    "    def __init__(self, X, offset=1, context=1):\n",
    "        \n",
    "        ### Assign data to self (1 line)\n",
    "        self.X = X\n",
    "        \n",
    "        ### Define data index mapping (4-6 lines)\n",
    "        index_map_X = []\n",
    "        \n",
    "        for i, x in enumerate(X):\n",
    "            for j, xx in enumerate(x):\n",
    "                index_pair_X = (i, j)\n",
    "                index_map_X.append(index_pair_X)\n",
    "                \n",
    "        ### Assign data index mapping to self (1 line)\n",
    "        self.index_map = index_map_X\n",
    "        \n",
    "        ### Assign length to self (1 line)\n",
    "        self.length = len(index_map_X)\n",
    "        \n",
    "        ### Add context and offset to self (1-2 line)\n",
    "        self.context = context\n",
    "        self.offset = offset\n",
    "        \n",
    "        ### Zero pad data as-needed for context size = 1 (1-2 lines)\n",
    "        for i, x in enumerate(self.X):\n",
    "            self.X[i] = np.pad(x, ((1, 1), (0, 0)), 'constant', constant_values=0)\n",
    "        \n",
    "    def __len__(self):\n",
    "        \n",
    "        ### Return length (1 line)\n",
    "        return self.length\n",
    "    \n",
    "    def __getitem__(self, index):\n",
    "        \n",
    "        ### Get index pair from index map (1-2 lines)\n",
    "        i, j = self.index_map[index]\n",
    "        \n",
    "        ### Calculate starting timestep using offset and context (1 line)\n",
    "        start_j = j + self.offset - self.context\n",
    "        \n",
    "        ### Calculate ending timestep using offset and context (1 line)\n",
    "        end_j = j + self.offset + self.context + 1\n",
    "        \n",
    "        ### Get data at index pair with context (1 line)\n",
    "        xx = self.X[i][start_j:end_j,:]\n",
    "        \n",
    "        ### Return data (1 line)\n",
    "        return xx\n",
    "    \n",
    "    def collate_fn(batch):\n",
    "        \n",
    "        ### Convert batch to tensor (1 line)\n",
    "        batch = torch.as_tensor(batch)\n",
    "        \n",
    "        ### Return batched data and labels (1 line)\n",
    "        return batch"
   ]
  },
  {
   "cell_type": "code",
   "execution_count": 29,
   "metadata": {
    "colab": {
     "base_uri": "https://localhost:8080/"
    },
    "id": "5qMR9iKmGuPA",
    "outputId": "9ac6fa0a-309c-43df-b8be-ca2aa28e04b3"
   },
   "outputs": [
    {
     "name": "stdout",
     "output_type": "stream",
     "text": [
      "Batch 0 :\n",
      " tensor([[[ 0,  0,  0],\n",
      "         [ 2,  3,  4],\n",
      "         [ 4,  6,  8]],\n",
      "\n",
      "        [[ 2,  3,  4],\n",
      "         [ 4,  6,  8],\n",
      "         [ 6,  9, 12]]]) \n",
      "\n",
      "Batch 1 :\n",
      " tensor([[[ 4,  6,  8],\n",
      "         [ 6,  9, 12],\n",
      "         [ 8, 12, 16]],\n",
      "\n",
      "        [[ 6,  9, 12],\n",
      "         [ 8, 12, 16],\n",
      "         [ 0,  0,  0]]]) \n",
      "\n",
      "Batch 2 :\n",
      " tensor([[[ 0,  0,  0],\n",
      "         [10, 15, 20],\n",
      "         [12, 18, 24]],\n",
      "\n",
      "        [[10, 15, 20],\n",
      "         [12, 18, 24],\n",
      "         [ 0,  0,  0]]]) \n",
      "\n"
     ]
    }
   ],
   "source": [
    "dataset5 = ExampleDataset5(X)\n",
    "\n",
    "dataloader5 = torch.utils.data.DataLoader(dataset5,\n",
    "                                         batch_size=2, \n",
    "                                         shuffle=False,\n",
    "                                         collate_fn=ExampleDataset5.collate_fn)\n",
    "\n",
    "for i, batch in enumerate(dataloader5):\n",
    "    print(\"Batch\", i, \":\\n\", batch, \"\\n\")"
   ]
  },
  {
   "cell_type": "markdown",
   "metadata": {
    "id": "dgag3qazGuPA"
   },
   "source": [
    "---\n",
    "#### Expected Output:\n",
    "\n",
    "```\n",
    "Batch 0 :\n",
    " tensor([[[ 0,  0,  0],\n",
    "         [ 2,  3,  4],\n",
    "         [ 4,  6,  8]],\n",
    "\n",
    "        [[ 2,  3,  4],\n",
    "         [ 4,  6,  8],\n",
    "         [ 6,  9, 12]]]) \n",
    "\n",
    "Batch 1 :\n",
    " tensor([[[ 4,  6,  8],\n",
    "         [ 6,  9, 12],\n",
    "         [ 8, 12, 16]],\n",
    "\n",
    "        [[ 6,  9, 12],\n",
    "         [ 8, 12, 16],\n",
    "         [ 0,  0,  0]]]) \n",
    "\n",
    "Batch 2 :\n",
    " tensor([[[ 0,  0,  0],\n",
    "         [10, 15, 20],\n",
    "         [12, 18, 24]],\n",
    "\n",
    "        [[10, 15, 20],\n",
    "         [12, 18, 24],\n",
    "         [ 0,  0,  0]]]) \n",
    "```\n",
    "---"
   ]
  },
  {
   "cell_type": "markdown",
   "metadata": {
    "id": "J8A5npzjGuPA"
   },
   "source": [
    "<hr style=\"border:2px solid gray\"> </hr>"
   ]
  },
  {
   "cell_type": "markdown",
   "metadata": {
    "id": "ufmEH0qfGuPA"
   },
   "source": [
    "### Exercise 6"
   ]
  },
  {
   "cell_type": "code",
   "execution_count": 41,
   "metadata": {
    "id": "FFyXRn-GGuPB"
   },
   "outputs": [],
   "source": [
    "X = np.array([ np.array([[ 2,  3,  4],\n",
    "                         [ 4,  6,  8],\n",
    "                         [ 6,  9, 12],\n",
    "                         [ 8, 12, 16]]),\n",
    "               np.array([[10, 15, 20],\n",
    "                         [12, 18, 24]]) ], dtype=object)\n",
    "\n",
    "Y = np.array([ np.array([1, 2, 3, 4]), \n",
    "               np.array([5, 6])], dtype=object)"
   ]
  },
  {
   "cell_type": "code",
   "execution_count": 43,
   "metadata": {
    "id": "5cOOCymBGuPB"
   },
   "outputs": [],
   "source": [
    "class ExampleDataset6(torch.utils.data.Dataset):\n",
    "    \n",
    "    def __init__(self, X, Y, offset=1, context=1):\n",
    "        \n",
    "        ### Add data and label to self (1-2 lines)\n",
    "        self.X = X\n",
    "        self.Y = Y\n",
    "        \n",
    "        ### Define data index mapping (4-6 lines)\n",
    "        index_map_X = []\n",
    "        for i, x in enumerate(X):\n",
    "            for j, xx in enumerate(x):\n",
    "                index_pair_X = (i, j)\n",
    "                index_map_X.append(index_pair_X)\n",
    "                \n",
    "        ### Define label index mapping (4-6 lines)\n",
    "        index_map_Y = []\n",
    "        for i, y in enumerate(Y):\n",
    "            for j, yy in enumerate(y):\n",
    "                index_pair_Y = (i, j)\n",
    "                index_map_Y.append(index_pair_Y)\n",
    "                \n",
    "        ### Assert the data index mapping and label index mapping are the same (1 line)\n",
    "        assert(len(index_map_X) == len(index_map_Y))\n",
    "        \n",
    "        ### Assign data index mapping to self (1 line)\n",
    "        self.index_map = index_map_X\n",
    "        \n",
    "        ### Add length to self (1 line)\n",
    "        self.length = len(index_map_X)\n",
    "        \n",
    "        ### Add context and offset to self (1-2 line)\n",
    "        self.context = context\n",
    "        self.offset = offset\n",
    "        \n",
    "        ### Zero pad data as-needed for context size = 1 (1-2 lines)\n",
    "        for i, x in enumerate(self.X):\n",
    "            self.X[i] = np.pad(x, \n",
    "                                        ((1, 1), (0, 0)), \n",
    "                                        'constant', \n",
    "                                        constant_values=0)\n",
    "        \n",
    "    def __len__(self):\n",
    "        \n",
    "        ### Return length (1 line)\n",
    "        return self.length\n",
    "    \n",
    "    def __getitem__(self, index):\n",
    "        \n",
    "        ### Get index pair from index map (1-2 lines)\n",
    "        i, j = self.index_map[index]\n",
    "        \n",
    "        ### Calculate starting timestep using offset and context (1 line)\n",
    "        start_j = j + self.offset - self.context\n",
    "        \n",
    "        ## Calculate ending timestep using offset and context (1 line)\n",
    "        end_j = j + self.offset + self.context + 1\n",
    "        \n",
    "        ### Get data at index pair with context (1 line)\n",
    "        xx = self.X[i][start_j:end_j, :]\n",
    "        \n",
    "        ### Get label at index pair (1 line)\n",
    "        yy = self.Y[i][j]\n",
    "        \n",
    "        ### Return data at index pair with context and label at index pair (1 line)\n",
    "        return xx, yy\n",
    "    \n",
    "    def collate_fn(batch):\n",
    "        \n",
    "        ### Select all data from batch (1 line)\n",
    "        batch_x = [x for x,y in batch]\n",
    "        \n",
    "        ### Select all labels from batch (1 line)\n",
    "        batch_y = [y for x,y in batch]\n",
    "        \n",
    "        ### Convert batched data and labels to tensors (2 lines)\n",
    "        batch_x = torch.as_tensor(batch_x)\n",
    "        batch_y = torch.as_tensor(batch_y)\n",
    "        \n",
    "        ### Return batched data and labels (1 line)\n",
    "        return batch_x, batch_y"
   ]
  },
  {
   "cell_type": "code",
   "execution_count": 42,
   "metadata": {
    "colab": {
     "base_uri": "https://localhost:8080/"
    },
    "id": "MOX9GLvVGuPB",
    "outputId": "cb0d2b32-4425-43f6-a559-0003b5da0095"
   },
   "outputs": [
    {
     "name": "stdout",
     "output_type": "stream",
     "text": [
      "[(array([[0, 0, 0],\n",
      "       [2, 3, 4],\n",
      "       [4, 6, 8]]), 1), (array([[ 2,  3,  4],\n",
      "       [ 4,  6,  8],\n",
      "       [ 6,  9, 12]]), 2)]\n",
      "Batch 0 :\n",
      " (tensor([[[ 0,  0,  0],\n",
      "         [ 2,  3,  4],\n",
      "         [ 4,  6,  8]],\n",
      "\n",
      "        [[ 2,  3,  4],\n",
      "         [ 4,  6,  8],\n",
      "         [ 6,  9, 12]]]), tensor([1, 2])) \n",
      "\n",
      "[(array([[ 4,  6,  8],\n",
      "       [ 6,  9, 12],\n",
      "       [ 8, 12, 16]]), 3), (array([[ 6,  9, 12],\n",
      "       [ 8, 12, 16],\n",
      "       [ 0,  0,  0]]), 4)]\n",
      "Batch 1 :\n",
      " (tensor([[[ 4,  6,  8],\n",
      "         [ 6,  9, 12],\n",
      "         [ 8, 12, 16]],\n",
      "\n",
      "        [[ 6,  9, 12],\n",
      "         [ 8, 12, 16],\n",
      "         [ 0,  0,  0]]]), tensor([3, 4])) \n",
      "\n",
      "[(array([[ 0,  0,  0],\n",
      "       [10, 15, 20],\n",
      "       [12, 18, 24]]), 5), (array([[10, 15, 20],\n",
      "       [12, 18, 24],\n",
      "       [ 0,  0,  0]]), 6)]\n",
      "Batch 2 :\n",
      " (tensor([[[ 0,  0,  0],\n",
      "         [10, 15, 20],\n",
      "         [12, 18, 24]],\n",
      "\n",
      "        [[10, 15, 20],\n",
      "         [12, 18, 24],\n",
      "         [ 0,  0,  0]]]), tensor([5, 6])) \n",
      "\n"
     ]
    }
   ],
   "source": [
    "dataset6 = ExampleDataset6(X, Y)\n",
    "\n",
    "dataloader6 = torch.utils.data.DataLoader(dataset6,\n",
    "                                         batch_size=2, \n",
    "                                         shuffle=False,\n",
    "                                         collate_fn=ExampleDataset6.collate_fn)\n",
    "\n",
    "for i, batch in enumerate(dataloader6):\n",
    "    print(\"Batch\", i, \":\\n\", batch, \"\\n\")"
   ]
  },
  {
   "cell_type": "markdown",
   "metadata": {
    "id": "oT4qwSkgGuPB"
   },
   "source": [
    "---\n",
    "#### Expected Output:\n",
    "```\n",
    "Batch 0 :\n",
    " (tensor([[[ 0,  0,  0],\n",
    "         [ 2,  3,  4],\n",
    "         [ 4,  6,  8]],\n",
    "\n",
    "        [[ 2,  3,  4],\n",
    "         [ 4,  6,  8],\n",
    "         [ 6,  9, 12]]]), tensor([1, 2])) \n",
    "\n",
    "Batch 1 :\n",
    " (tensor([[[ 4,  6,  8],\n",
    "         [ 6,  9, 12],\n",
    "         [ 8, 12, 16]],\n",
    "\n",
    "        [[ 6,  9, 12],\n",
    "         [ 8, 12, 16],\n",
    "         [ 0,  0,  0]]]), tensor([3, 4])) \n",
    "\n",
    "Batch 2 :\n",
    " (tensor([[[ 0,  0,  0],\n",
    "         [10, 15, 20],\n",
    "         [12, 18, 24]],\n",
    "\n",
    "        [[10, 15, 20],\n",
    "         [12, 18, 24],\n",
    "         [ 0,  0,  0]]]), tensor([5, 6])) \n",
    "```\n",
    "---"
   ]
  },
  {
   "cell_type": "markdown",
   "metadata": {
    "id": "GjWNdfXjGuPB"
   },
   "source": [
    "### Exercise 7"
   ]
  },
  {
   "cell_type": "code",
   "execution_count": 33,
   "metadata": {
    "colab": {
     "base_uri": "https://localhost:8080/"
    },
    "id": "v3blqM-YGuPB",
    "outputId": "dc2f97e5-d713-42d4-d770-e97ea09c9b97"
   },
   "outputs": [
    {
     "name": "stdout",
     "output_type": "stream",
     "text": [
      "NVIDIA-SMI has failed because it couldn't communicate with the NVIDIA driver. Make sure that the latest NVIDIA driver is installed and running.\n",
      "\n"
     ]
    }
   ],
   "source": [
    "!nvidia-smi"
   ]
  },
  {
   "cell_type": "markdown",
   "metadata": {
    "id": "Sihx5QYwGuPB"
   },
   "source": [
    "---\n",
    "#### Expected Output (your result should look similar, but not exactly the same):\n",
    "```\n",
    "+-----------------------------------------------------------------------------+\n",
    "| NVIDIA-SMI 460.27.04    Driver Version: 460.27.04    CUDA Version: 11.2     |\n",
    "|-------------------------------+----------------------+----------------------+\n",
    "| GPU  Name        Persistence-M| Bus-Id        Disp.A | Volatile Uncorr. ECC |\n",
    "| Fan  Temp  Perf  Pwr:Usage/Cap|         Memory-Usage | GPU-Util  Compute M. |\n",
    "|                               |                      |               MIG M. |\n",
    "|===============================+======================+======================|\n",
    "|   0  GeForce RTX 207...  Off  | 00000000:01:00.0 Off |                  N/A |\n",
    "| N/A   40C    P8     9W /  N/A |      5MiB /  7982MiB |      0%      Default |\n",
    "|                               |                      |                  N/A |\n",
    "+-------------------------------+----------------------+----------------------+\n",
    "                                                                               \n",
    "+-----------------------------------------------------------------------------+\n",
    "| Processes:                                                                  |\n",
    "|  GPU   GI   CI        PID   Type   Process name                  GPU Memory |\n",
    "|        ID   ID                                                   Usage      |\n",
    "|=============================================================================|\n",
    "|    0   N/A  N/A       970      G   /usr/lib/xorg/Xorg                  4MiB |\n",
    "+-----------------------------------------------------------------------------+\n",
    "```\n",
    "---"
   ]
  },
  {
   "cell_type": "code",
   "execution_count": null,
   "metadata": {
    "id": "vyyzIEYCGuPB"
   },
   "outputs": [],
   "source": []
  }
 ],
 "metadata": {
  "colab": {
   "name": "hw0p2-easy-difficulty.ipynb",
   "provenance": []
  },
  "kernelspec": {
   "display_name": "Python 3 (ipykernel)",
   "language": "python",
   "name": "python3"
  },
  "language_info": {
   "codemirror_mode": {
    "name": "ipython",
    "version": 3
   },
   "file_extension": ".py",
   "mimetype": "text/x-python",
   "name": "python",
   "nbconvert_exporter": "python",
   "pygments_lexer": "ipython3",
   "version": "3.8.10"
  }
 },
 "nbformat": 4,
 "nbformat_minor": 4
}
